{
 "cells": [
  {
   "cell_type": "markdown",
   "id": "b3ac23ab",
   "metadata": {},
   "source": [
    "# Predicting the Number of Tackles a Player Will Make"
   ]
  },
  {
   "cell_type": "markdown",
   "id": "6ffff930",
   "metadata": {},
   "source": [
    "Given the abundance of historical player and tackling data we have, it should be possible to create a linear regression model that can make a reasonably accurate prediction on the number of tackles a given player will make in a game."
   ]
  },
  {
   "cell_type": "markdown",
   "id": "449d5608",
   "metadata": {},
   "source": [
    "### Loading in the Data"
   ]
  },
  {
   "cell_type": "markdown",
   "id": "40987b39",
   "metadata": {},
   "source": [
    "Here, we load in all of the data provided by the NFL via Kaggle.  You can download it yourself here: https://www.kaggle.com/competitions/nfl-big-data-bowl-2024?rvi=1"
   ]
  },
  {
   "cell_type": "code",
   "execution_count": 49,
   "id": "7f470506",
   "metadata": {},
   "outputs": [],
   "source": [
    "import pandas as pd"
   ]
  },
  {
   "cell_type": "code",
   "execution_count": 50,
   "id": "275de220",
   "metadata": {},
   "outputs": [],
   "source": [
    "games = pd.read_csv('../games.csv')\n",
    "plays = pd.read_csv(\"../plays.csv\")\n",
    "players = pd.read_csv('../players.csv')\n",
    "tackles = pd.read_csv('../tackles.csv')\n",
    "\n",
    "li = []\n",
    "\n",
    "for i in range(8):\n",
    "    string = '../tracking_week_' + str(i + 1) + '.csv'\n",
    "    track = pd.read_csv(string)\n",
    "    li.append(track)\n",
    "    \n",
    "tracking = pd.concat(li, axis=0, ignore_index=True)\n",
    "\n",
    "# Note that tracking only contains weeks 1-8.  We will test our model on week 9\n",
    "\n",
    "tracking_week_9 = pd.read_csv('../tracking_week_9.csv')"
   ]
  },
  {
   "cell_type": "markdown",
   "id": "3a672d35",
   "metadata": {},
   "source": [
    "### Preparing the data"
   ]
  },
  {
   "cell_type": "markdown",
   "id": "d1689946",
   "metadata": {},
   "source": [
    "We need to create a new dataframe that contains data from the first 8 weeks of the season with each row representing one player.  This will contain our training data and rows."
   ]
  },
  {
   "cell_type": "code",
   "execution_count": 67,
   "id": "f3e4ad36",
   "metadata": {
    "scrolled": true
   },
   "outputs": [
    {
     "data": {
      "text/html": [
       "<div>\n",
       "<style scoped>\n",
       "    .dataframe tbody tr th:only-of-type {\n",
       "        vertical-align: middle;\n",
       "    }\n",
       "\n",
       "    .dataframe tbody tr th {\n",
       "        vertical-align: top;\n",
       "    }\n",
       "\n",
       "    .dataframe thead th {\n",
       "        text-align: right;\n",
       "    }\n",
       "</style>\n",
       "<table border=\"1\" class=\"dataframe\">\n",
       "  <thead>\n",
       "    <tr style=\"text-align: right;\">\n",
       "      <th></th>\n",
       "      <th>nflId</th>\n",
       "      <th>tackles</th>\n",
       "      <th>assists</th>\n",
       "      <th>pff_missedTackles</th>\n",
       "      <th>forcedFumbles</th>\n",
       "    </tr>\n",
       "  </thead>\n",
       "  <tbody>\n",
       "    <tr>\n",
       "      <th>0</th>\n",
       "      <td>33131.0</td>\n",
       "      <td>362</td>\n",
       "      <td>510</td>\n",
       "      <td>248</td>\n",
       "      <td>0</td>\n",
       "    </tr>\n",
       "    <tr>\n",
       "      <th>1</th>\n",
       "      <td>35449.0</td>\n",
       "      <td>205</td>\n",
       "      <td>228</td>\n",
       "      <td>60</td>\n",
       "      <td>0</td>\n",
       "    </tr>\n",
       "    <tr>\n",
       "      <th>2</th>\n",
       "      <td>35452.0</td>\n",
       "      <td>175</td>\n",
       "      <td>247</td>\n",
       "      <td>67</td>\n",
       "      <td>0</td>\n",
       "    </tr>\n",
       "    <tr>\n",
       "      <th>3</th>\n",
       "      <td>35454.0</td>\n",
       "      <td>128</td>\n",
       "      <td>160</td>\n",
       "      <td>71</td>\n",
       "      <td>0</td>\n",
       "    </tr>\n",
       "    <tr>\n",
       "      <th>4</th>\n",
       "      <td>35459.0</td>\n",
       "      <td>1355</td>\n",
       "      <td>1226</td>\n",
       "      <td>650</td>\n",
       "      <td>0</td>\n",
       "    </tr>\n",
       "    <tr>\n",
       "      <th>...</th>\n",
       "      <td>...</td>\n",
       "      <td>...</td>\n",
       "      <td>...</td>\n",
       "      <td>...</td>\n",
       "      <td>...</td>\n",
       "    </tr>\n",
       "    <tr>\n",
       "      <th>775</th>\n",
       "      <td>55190.0</td>\n",
       "      <td>67</td>\n",
       "      <td>0</td>\n",
       "      <td>0</td>\n",
       "      <td>0</td>\n",
       "    </tr>\n",
       "    <tr>\n",
       "      <th>776</th>\n",
       "      <td>55200.0</td>\n",
       "      <td>71</td>\n",
       "      <td>0</td>\n",
       "      <td>0</td>\n",
       "      <td>0</td>\n",
       "    </tr>\n",
       "    <tr>\n",
       "      <th>777</th>\n",
       "      <td>55239.0</td>\n",
       "      <td>0</td>\n",
       "      <td>149</td>\n",
       "      <td>0</td>\n",
       "      <td>0</td>\n",
       "    </tr>\n",
       "    <tr>\n",
       "      <th>778</th>\n",
       "      <td>55240.0</td>\n",
       "      <td>55</td>\n",
       "      <td>54</td>\n",
       "      <td>0</td>\n",
       "      <td>0</td>\n",
       "    </tr>\n",
       "    <tr>\n",
       "      <th>779</th>\n",
       "      <td>55241.0</td>\n",
       "      <td>105</td>\n",
       "      <td>0</td>\n",
       "      <td>0</td>\n",
       "      <td>0</td>\n",
       "    </tr>\n",
       "  </tbody>\n",
       "</table>\n",
       "<p>780 rows × 5 columns</p>\n",
       "</div>"
      ],
      "text/plain": [
       "       nflId  tackles  assists  pff_missedTackles  forcedFumbles\n",
       "0    33131.0      362      510                248              0\n",
       "1    35449.0      205      228                 60              0\n",
       "2    35452.0      175      247                 67              0\n",
       "3    35454.0      128      160                 71              0\n",
       "4    35459.0     1355     1226                650              0\n",
       "..       ...      ...      ...                ...            ...\n",
       "775  55190.0       67        0                  0              0\n",
       "776  55200.0       71        0                  0              0\n",
       "777  55239.0        0      149                  0              0\n",
       "778  55240.0       55       54                  0              0\n",
       "779  55241.0      105        0                  0              0\n",
       "\n",
       "[780 rows x 5 columns]"
      ]
     },
     "execution_count": 67,
     "metadata": {},
     "output_type": "execute_result"
    }
   ],
   "source": [
    "# Only include plays that happened in the first 8 weeks\n",
    "merged_df = pd.merge(tracking, tackles, on=['playId', 'nflId'], how='inner')\n",
    "\n",
    "player_train = merged_df.groupby('nflId').agg({\n",
    "    'tackle': 'sum',\n",
    "    'assist': 'sum',\n",
    "    'pff_missedTackle': 'sum',\n",
    "    'forcedFumble': 'sum'\n",
    "}).reset_index()\n",
    "\n",
    "player_train.columns = ['nflId', 'tackles', 'assists', 'pff_missedTackles', 'forcedFumbles']\n",
    "\n",
    "player_train"
   ]
  },
  {
   "cell_type": "markdown",
   "id": "97b9d1be",
   "metadata": {},
   "source": [
    "To aggregate some more variables, we need to aggregate values from the players dataframe and manipulate some values such as height and position into numerical variables that linear regression can handle."
   ]
  },
  {
   "cell_type": "code",
   "execution_count": 68,
   "id": "0718dc84",
   "metadata": {
    "scrolled": false
   },
   "outputs": [
    {
     "name": "stderr",
     "output_type": "stream",
     "text": [
      "/var/folders/v8/3xx273zn6_zd0_y12l54y_1w0000gn/T/ipykernel_1611/1760450930.py:7: SettingWithCopyWarning: \n",
      "A value is trying to be set on a copy of a slice from a DataFrame.\n",
      "Try using .loc[row_indexer,col_indexer] = value instead\n",
      "\n",
      "See the caveats in the documentation: https://pandas.pydata.org/pandas-docs/stable/user_guide/indexing.html#returning-a-view-versus-a-copy\n",
      "  player_vars['height'] = extracted_height.apply(lambda row: f\"{row[0]}.{row[1]}\", axis=1).astype(float)\n"
     ]
    },
    {
     "data": {
      "text/html": [
       "<div>\n",
       "<style scoped>\n",
       "    .dataframe tbody tr th:only-of-type {\n",
       "        vertical-align: middle;\n",
       "    }\n",
       "\n",
       "    .dataframe tbody tr th {\n",
       "        vertical-align: top;\n",
       "    }\n",
       "\n",
       "    .dataframe thead th {\n",
       "        text-align: right;\n",
       "    }\n",
       "</style>\n",
       "<table border=\"1\" class=\"dataframe\">\n",
       "  <thead>\n",
       "    <tr style=\"text-align: right;\">\n",
       "      <th></th>\n",
       "      <th>nflId</th>\n",
       "      <th>tackles</th>\n",
       "      <th>assists</th>\n",
       "      <th>pff_missedTackles</th>\n",
       "      <th>forcedFumbles</th>\n",
       "      <th>weight</th>\n",
       "      <th>height</th>\n",
       "    </tr>\n",
       "  </thead>\n",
       "  <tbody>\n",
       "    <tr>\n",
       "      <th>0</th>\n",
       "      <td>33131.0</td>\n",
       "      <td>362</td>\n",
       "      <td>510</td>\n",
       "      <td>248</td>\n",
       "      <td>0</td>\n",
       "      <td>300</td>\n",
       "      <td>6.8</td>\n",
       "    </tr>\n",
       "    <tr>\n",
       "      <th>1</th>\n",
       "      <td>35449.0</td>\n",
       "      <td>205</td>\n",
       "      <td>228</td>\n",
       "      <td>60</td>\n",
       "      <td>0</td>\n",
       "      <td>304</td>\n",
       "      <td>6.3</td>\n",
       "    </tr>\n",
       "    <tr>\n",
       "      <th>2</th>\n",
       "      <td>35452.0</td>\n",
       "      <td>175</td>\n",
       "      <td>247</td>\n",
       "      <td>67</td>\n",
       "      <td>0</td>\n",
       "      <td>265</td>\n",
       "      <td>6.2</td>\n",
       "    </tr>\n",
       "    <tr>\n",
       "      <th>3</th>\n",
       "      <td>35454.0</td>\n",
       "      <td>128</td>\n",
       "      <td>160</td>\n",
       "      <td>71</td>\n",
       "      <td>0</td>\n",
       "      <td>275</td>\n",
       "      <td>6.5</td>\n",
       "    </tr>\n",
       "    <tr>\n",
       "      <th>4</th>\n",
       "      <td>35459.0</td>\n",
       "      <td>1355</td>\n",
       "      <td>1226</td>\n",
       "      <td>650</td>\n",
       "      <td>0</td>\n",
       "      <td>185</td>\n",
       "      <td>5.1</td>\n",
       "    </tr>\n",
       "    <tr>\n",
       "      <th>...</th>\n",
       "      <td>...</td>\n",
       "      <td>...</td>\n",
       "      <td>...</td>\n",
       "      <td>...</td>\n",
       "      <td>...</td>\n",
       "      <td>...</td>\n",
       "      <td>...</td>\n",
       "    </tr>\n",
       "    <tr>\n",
       "      <th>775</th>\n",
       "      <td>55190.0</td>\n",
       "      <td>67</td>\n",
       "      <td>0</td>\n",
       "      <td>0</td>\n",
       "      <td>0</td>\n",
       "      <td>285</td>\n",
       "      <td>6.1</td>\n",
       "    </tr>\n",
       "    <tr>\n",
       "      <th>776</th>\n",
       "      <td>55200.0</td>\n",
       "      <td>71</td>\n",
       "      <td>0</td>\n",
       "      <td>0</td>\n",
       "      <td>0</td>\n",
       "      <td>266</td>\n",
       "      <td>6.6</td>\n",
       "    </tr>\n",
       "    <tr>\n",
       "      <th>777</th>\n",
       "      <td>55239.0</td>\n",
       "      <td>0</td>\n",
       "      <td>149</td>\n",
       "      <td>0</td>\n",
       "      <td>0</td>\n",
       "      <td>300</td>\n",
       "      <td>6.2</td>\n",
       "    </tr>\n",
       "    <tr>\n",
       "      <th>778</th>\n",
       "      <td>55240.0</td>\n",
       "      <td>55</td>\n",
       "      <td>54</td>\n",
       "      <td>0</td>\n",
       "      <td>0</td>\n",
       "      <td>185</td>\n",
       "      <td>6.1</td>\n",
       "    </tr>\n",
       "    <tr>\n",
       "      <th>779</th>\n",
       "      <td>55241.0</td>\n",
       "      <td>105</td>\n",
       "      <td>0</td>\n",
       "      <td>0</td>\n",
       "      <td>0</td>\n",
       "      <td>280</td>\n",
       "      <td>6.2</td>\n",
       "    </tr>\n",
       "  </tbody>\n",
       "</table>\n",
       "<p>780 rows × 7 columns</p>\n",
       "</div>"
      ],
      "text/plain": [
       "       nflId  tackles  assists  pff_missedTackles  forcedFumbles  weight  \\\n",
       "0    33131.0      362      510                248              0     300   \n",
       "1    35449.0      205      228                 60              0     304   \n",
       "2    35452.0      175      247                 67              0     265   \n",
       "3    35454.0      128      160                 71              0     275   \n",
       "4    35459.0     1355     1226                650              0     185   \n",
       "..       ...      ...      ...                ...            ...     ...   \n",
       "775  55190.0       67        0                  0              0     285   \n",
       "776  55200.0       71        0                  0              0     266   \n",
       "777  55239.0        0      149                  0              0     300   \n",
       "778  55240.0       55       54                  0              0     185   \n",
       "779  55241.0      105        0                  0              0     280   \n",
       "\n",
       "     height  \n",
       "0       6.8  \n",
       "1       6.3  \n",
       "2       6.2  \n",
       "3       6.5  \n",
       "4       5.1  \n",
       "..      ...  \n",
       "775     6.1  \n",
       "776     6.6  \n",
       "777     6.2  \n",
       "778     6.1  \n",
       "779     6.2  \n",
       "\n",
       "[780 rows x 7 columns]"
      ]
     },
     "execution_count": 68,
     "metadata": {},
     "output_type": "execute_result"
    }
   ],
   "source": [
    "player_vars = players[['nflId', 'weight', 'height']]\n",
    "\n",
    "# extract the string versions of the heights and convert them to numbers\n",
    "\n",
    "extracted_height = player_vars['height'].str.extract('(\\d+)-(\\d+)')\n",
    "\n",
    "player_vars['height'] = extracted_height.apply(lambda row: f\"{row[0]}.{row[1]}\", axis=1).astype(float)\n",
    "\n",
    "# add this data into the training data\n",
    "\n",
    "player_train = pd.merge(player_train, player_vars, on='nflId')\n",
    "\n",
    "player_train"
   ]
  },
  {
   "cell_type": "markdown",
   "id": "0f30d321",
   "metadata": {},
   "source": [
    "Now we need to create the same dataframe but for week 9 only.  This is our test data and labels"
   ]
  },
  {
   "cell_type": "code",
   "execution_count": 69,
   "id": "42b35a24",
   "metadata": {
    "scrolled": false
   },
   "outputs": [
    {
     "data": {
      "text/html": [
       "<div>\n",
       "<style scoped>\n",
       "    .dataframe tbody tr th:only-of-type {\n",
       "        vertical-align: middle;\n",
       "    }\n",
       "\n",
       "    .dataframe tbody tr th {\n",
       "        vertical-align: top;\n",
       "    }\n",
       "\n",
       "    .dataframe thead th {\n",
       "        text-align: right;\n",
       "    }\n",
       "</style>\n",
       "<table border=\"1\" class=\"dataframe\">\n",
       "  <thead>\n",
       "    <tr style=\"text-align: right;\">\n",
       "      <th></th>\n",
       "      <th>nflId</th>\n",
       "      <th>tackles</th>\n",
       "      <th>assists</th>\n",
       "      <th>pff_missedTackles</th>\n",
       "      <th>forcedFumbles</th>\n",
       "      <th>weight</th>\n",
       "      <th>height</th>\n",
       "    </tr>\n",
       "  </thead>\n",
       "  <tbody>\n",
       "    <tr>\n",
       "      <th>0</th>\n",
       "      <td>33131.0</td>\n",
       "      <td>44</td>\n",
       "      <td>0</td>\n",
       "      <td>0</td>\n",
       "      <td>0</td>\n",
       "      <td>300</td>\n",
       "      <td>6.8</td>\n",
       "    </tr>\n",
       "    <tr>\n",
       "      <th>1</th>\n",
       "      <td>35452.0</td>\n",
       "      <td>39</td>\n",
       "      <td>0</td>\n",
       "      <td>0</td>\n",
       "      <td>0</td>\n",
       "      <td>265</td>\n",
       "      <td>6.2</td>\n",
       "    </tr>\n",
       "    <tr>\n",
       "      <th>2</th>\n",
       "      <td>35466.0</td>\n",
       "      <td>151</td>\n",
       "      <td>42</td>\n",
       "      <td>0</td>\n",
       "      <td>0</td>\n",
       "      <td>195</td>\n",
       "      <td>5.1</td>\n",
       "    </tr>\n",
       "    <tr>\n",
       "      <th>3</th>\n",
       "      <td>35470.0</td>\n",
       "      <td>151</td>\n",
       "      <td>70</td>\n",
       "      <td>57</td>\n",
       "      <td>0</td>\n",
       "      <td>254</td>\n",
       "      <td>6.2</td>\n",
       "    </tr>\n",
       "    <tr>\n",
       "      <th>4</th>\n",
       "      <td>35493.0</td>\n",
       "      <td>55</td>\n",
       "      <td>31</td>\n",
       "      <td>0</td>\n",
       "      <td>0</td>\n",
       "      <td>285</td>\n",
       "      <td>6.6</td>\n",
       "    </tr>\n",
       "    <tr>\n",
       "      <th>...</th>\n",
       "      <td>...</td>\n",
       "      <td>...</td>\n",
       "      <td>...</td>\n",
       "      <td>...</td>\n",
       "      <td>...</td>\n",
       "      <td>...</td>\n",
       "      <td>...</td>\n",
       "    </tr>\n",
       "    <tr>\n",
       "      <th>420</th>\n",
       "      <td>54948.0</td>\n",
       "      <td>0</td>\n",
       "      <td>113</td>\n",
       "      <td>0</td>\n",
       "      <td>0</td>\n",
       "      <td>379</td>\n",
       "      <td>6.3</td>\n",
       "    </tr>\n",
       "    <tr>\n",
       "      <th>421</th>\n",
       "      <td>55043.0</td>\n",
       "      <td>0</td>\n",
       "      <td>121</td>\n",
       "      <td>40</td>\n",
       "      <td>0</td>\n",
       "      <td>230</td>\n",
       "      <td>6.1</td>\n",
       "    </tr>\n",
       "    <tr>\n",
       "      <th>422</th>\n",
       "      <td>55045.0</td>\n",
       "      <td>44</td>\n",
       "      <td>49</td>\n",
       "      <td>0</td>\n",
       "      <td>0</td>\n",
       "      <td>296</td>\n",
       "      <td>6.1</td>\n",
       "    </tr>\n",
       "    <tr>\n",
       "      <th>423</th>\n",
       "      <td>55104.0</td>\n",
       "      <td>0</td>\n",
       "      <td>48</td>\n",
       "      <td>0</td>\n",
       "      <td>0</td>\n",
       "      <td>195</td>\n",
       "      <td>6.2</td>\n",
       "    </tr>\n",
       "    <tr>\n",
       "      <th>424</th>\n",
       "      <td>55105.0</td>\n",
       "      <td>0</td>\n",
       "      <td>104</td>\n",
       "      <td>0</td>\n",
       "      <td>0</td>\n",
       "      <td>220</td>\n",
       "      <td>6.1</td>\n",
       "    </tr>\n",
       "  </tbody>\n",
       "</table>\n",
       "<p>425 rows × 7 columns</p>\n",
       "</div>"
      ],
      "text/plain": [
       "       nflId  tackles  assists  pff_missedTackles  forcedFumbles  weight  \\\n",
       "0    33131.0       44        0                  0              0     300   \n",
       "1    35452.0       39        0                  0              0     265   \n",
       "2    35466.0      151       42                  0              0     195   \n",
       "3    35470.0      151       70                 57              0     254   \n",
       "4    35493.0       55       31                  0              0     285   \n",
       "..       ...      ...      ...                ...            ...     ...   \n",
       "420  54948.0        0      113                  0              0     379   \n",
       "421  55043.0        0      121                 40              0     230   \n",
       "422  55045.0       44       49                  0              0     296   \n",
       "423  55104.0        0       48                  0              0     195   \n",
       "424  55105.0        0      104                  0              0     220   \n",
       "\n",
       "     height  \n",
       "0       6.8  \n",
       "1       6.2  \n",
       "2       5.1  \n",
       "3       6.2  \n",
       "4       6.6  \n",
       "..      ...  \n",
       "420     6.3  \n",
       "421     6.1  \n",
       "422     6.1  \n",
       "423     6.2  \n",
       "424     6.1  \n",
       "\n",
       "[425 rows x 7 columns]"
      ]
     },
     "execution_count": 69,
     "metadata": {},
     "output_type": "execute_result"
    }
   ],
   "source": [
    "merged_df = pd.merge(tracking_week_9, tackles, on=['playId', 'nflId'], how='inner')\n",
    "\n",
    "player_test = merged_df.groupby('nflId').agg({\n",
    "    'tackle': 'sum',\n",
    "    'assist': 'sum',\n",
    "    'pff_missedTackle': 'sum',\n",
    "    'forcedFumble': 'sum'\n",
    "}).reset_index()\n",
    "\n",
    "player_test.columns = ['nflId', 'tackles', 'assists', 'pff_missedTackles', 'forcedFumbles']\n",
    "\n",
    "player_test = pd.merge(player_test, player_vars, on='nflId')\n",
    "\n",
    "player_test"
   ]
  },
  {
   "cell_type": "code",
   "execution_count": 70,
   "id": "b52481c4",
   "metadata": {},
   "outputs": [],
   "source": [
    "# Take data from dataframes to pass into model\n",
    "\n",
    "X_train = player_train[['nflId', 'assists', 'pff_missedTackles', 'forcedFumbles']]\n",
    "y_train = player_train['tackles']\n",
    "\n",
    "X_test = player_test[['nflId', 'assists', 'pff_missedTackles', 'forcedFumbles']]\n",
    "y_test = player_test['tackles']"
   ]
  },
  {
   "cell_type": "markdown",
   "id": "a2b03add",
   "metadata": {},
   "source": [
    "### Creating the Model"
   ]
  },
  {
   "cell_type": "code",
   "execution_count": 71,
   "id": "a2320f58",
   "metadata": {},
   "outputs": [],
   "source": [
    "from sklearn.linear_model import LinearRegression\n",
    "from sklearn.metrics import mean_squared_error, r2_score"
   ]
  },
  {
   "cell_type": "code",
   "execution_count": 72,
   "id": "97024fd7",
   "metadata": {
    "scrolled": true
   },
   "outputs": [
    {
     "data": {
      "text/html": [
       "<style>#sk-container-id-1 {color: black;}#sk-container-id-1 pre{padding: 0;}#sk-container-id-1 div.sk-toggleable {background-color: white;}#sk-container-id-1 label.sk-toggleable__label {cursor: pointer;display: block;width: 100%;margin-bottom: 0;padding: 0.3em;box-sizing: border-box;text-align: center;}#sk-container-id-1 label.sk-toggleable__label-arrow:before {content: \"▸\";float: left;margin-right: 0.25em;color: #696969;}#sk-container-id-1 label.sk-toggleable__label-arrow:hover:before {color: black;}#sk-container-id-1 div.sk-estimator:hover label.sk-toggleable__label-arrow:before {color: black;}#sk-container-id-1 div.sk-toggleable__content {max-height: 0;max-width: 0;overflow: hidden;text-align: left;background-color: #f0f8ff;}#sk-container-id-1 div.sk-toggleable__content pre {margin: 0.2em;color: black;border-radius: 0.25em;background-color: #f0f8ff;}#sk-container-id-1 input.sk-toggleable__control:checked~div.sk-toggleable__content {max-height: 200px;max-width: 100%;overflow: auto;}#sk-container-id-1 input.sk-toggleable__control:checked~label.sk-toggleable__label-arrow:before {content: \"▾\";}#sk-container-id-1 div.sk-estimator input.sk-toggleable__control:checked~label.sk-toggleable__label {background-color: #d4ebff;}#sk-container-id-1 div.sk-label input.sk-toggleable__control:checked~label.sk-toggleable__label {background-color: #d4ebff;}#sk-container-id-1 input.sk-hidden--visually {border: 0;clip: rect(1px 1px 1px 1px);clip: rect(1px, 1px, 1px, 1px);height: 1px;margin: -1px;overflow: hidden;padding: 0;position: absolute;width: 1px;}#sk-container-id-1 div.sk-estimator {font-family: monospace;background-color: #f0f8ff;border: 1px dotted black;border-radius: 0.25em;box-sizing: border-box;margin-bottom: 0.5em;}#sk-container-id-1 div.sk-estimator:hover {background-color: #d4ebff;}#sk-container-id-1 div.sk-parallel-item::after {content: \"\";width: 100%;border-bottom: 1px solid gray;flex-grow: 1;}#sk-container-id-1 div.sk-label:hover label.sk-toggleable__label {background-color: #d4ebff;}#sk-container-id-1 div.sk-serial::before {content: \"\";position: absolute;border-left: 1px solid gray;box-sizing: border-box;top: 0;bottom: 0;left: 50%;z-index: 0;}#sk-container-id-1 div.sk-serial {display: flex;flex-direction: column;align-items: center;background-color: white;padding-right: 0.2em;padding-left: 0.2em;position: relative;}#sk-container-id-1 div.sk-item {position: relative;z-index: 1;}#sk-container-id-1 div.sk-parallel {display: flex;align-items: stretch;justify-content: center;background-color: white;position: relative;}#sk-container-id-1 div.sk-item::before, #sk-container-id-1 div.sk-parallel-item::before {content: \"\";position: absolute;border-left: 1px solid gray;box-sizing: border-box;top: 0;bottom: 0;left: 50%;z-index: -1;}#sk-container-id-1 div.sk-parallel-item {display: flex;flex-direction: column;z-index: 1;position: relative;background-color: white;}#sk-container-id-1 div.sk-parallel-item:first-child::after {align-self: flex-end;width: 50%;}#sk-container-id-1 div.sk-parallel-item:last-child::after {align-self: flex-start;width: 50%;}#sk-container-id-1 div.sk-parallel-item:only-child::after {width: 0;}#sk-container-id-1 div.sk-dashed-wrapped {border: 1px dashed gray;margin: 0 0.4em 0.5em 0.4em;box-sizing: border-box;padding-bottom: 0.4em;background-color: white;}#sk-container-id-1 div.sk-label label {font-family: monospace;font-weight: bold;display: inline-block;line-height: 1.2em;}#sk-container-id-1 div.sk-label-container {text-align: center;}#sk-container-id-1 div.sk-container {/* jupyter's `normalize.less` sets `[hidden] { display: none; }` but bootstrap.min.css set `[hidden] { display: none !important; }` so we also need the `!important` here to be able to override the default hidden behavior on the sphinx rendered scikit-learn.org. See: https://github.com/scikit-learn/scikit-learn/issues/21755 */display: inline-block !important;position: relative;}#sk-container-id-1 div.sk-text-repr-fallback {display: none;}</style><div id=\"sk-container-id-1\" class=\"sk-top-container\"><div class=\"sk-text-repr-fallback\"><pre>LinearRegression()</pre><b>In a Jupyter environment, please rerun this cell to show the HTML representation or trust the notebook. <br />On GitHub, the HTML representation is unable to render, please try loading this page with nbviewer.org.</b></div><div class=\"sk-container\" hidden><div class=\"sk-item\"><div class=\"sk-estimator sk-toggleable\"><input class=\"sk-toggleable__control sk-hidden--visually\" id=\"sk-estimator-id-1\" type=\"checkbox\" checked><label for=\"sk-estimator-id-1\" class=\"sk-toggleable__label sk-toggleable__label-arrow\">LinearRegression</label><div class=\"sk-toggleable__content\"><pre>LinearRegression()</pre></div></div></div></div></div>"
      ],
      "text/plain": [
       "LinearRegression()"
      ]
     },
     "execution_count": 72,
     "metadata": {},
     "output_type": "execute_result"
    }
   ],
   "source": [
    "model = LinearRegression()\n",
    "model.fit(X_train, y_train)"
   ]
  },
  {
   "cell_type": "code",
   "execution_count": 73,
   "id": "9d1255c2",
   "metadata": {},
   "outputs": [],
   "source": [
    "y_pred = model.predict(X_test)"
   ]
  },
  {
   "cell_type": "markdown",
   "id": "7d8d11f9",
   "metadata": {},
   "source": [
    "### Evaluating the Results"
   ]
  },
  {
   "cell_type": "code",
   "execution_count": 74,
   "id": "4a9f5750",
   "metadata": {
    "scrolled": true
   },
   "outputs": [
    {
     "name": "stdout",
     "output_type": "stream",
     "text": [
      "Mean Squared Error: 13614.915467676234\n",
      "R-squared: -0.8021622269557704\n"
     ]
    }
   ],
   "source": [
    "mse = mean_squared_error(y_test, y_pred)\n",
    "r2 = r2_score(y_test, y_pred)\n",
    "\n",
    "print(f'Mean Squared Error: {mse}')\n",
    "print(f'R-squared: {r2}')"
   ]
  },
  {
   "cell_type": "code",
   "execution_count": 75,
   "id": "585b7dde",
   "metadata": {
    "scrolled": true
   },
   "outputs": [
    {
     "data": {
      "image/png": "[encoded data removed]",
      "text/plain": [
       "<Figure size 640x480 with 1 Axes>"
      ]
     },
     "metadata": {},
     "output_type": "display_data"
    }
   ],
   "source": [
    "import matplotlib.pyplot as plt\n",
    "\n",
    "plt.scatter(y_test, y_pred)\n",
    "plt.xlabel('Actual Tackles')\n",
    "plt.ylabel('Predicted Tackles')\n",
    "plt.title('Actual vs. Predicted Tackles')\n",
    "3plt.show()"
   ]
  },
  {
   "cell_type": "markdown",
   "id": "15b4d13a",
   "metadata": {},
   "source": [
    "### Results "
   ]
  },
  {
   "cell_type": "markdown",
   "id": "d82c7372",
   "metadata": {},
   "source": [
    "Unfortunately, we are failing to produce very good results here.  Eight games is just not enough data for to accurately predict results for each player.  It's also hard to come up with numerical variables on which we can predict, so we are a little limited in this context as well."
   ]
  }
 ],
 "metadata": {
  "kernelspec": {
   "display_name": "Python 3 (ipykernel)",
   "language": "python",
   "name": "python3"
  },
  "language_info": {
   "codemirror_mode": {
    "name": "ipython",
    "version": 3
   },
   "file_extension": ".py",
   "mimetype": "text/x-python",
   "name": "python",
   "nbconvert_exporter": "python",
   "pygments_lexer": "ipython3",
   "version": "3.7.9"
  }
 },
 "nbformat": 4,
 "nbformat_minor": 5
}
